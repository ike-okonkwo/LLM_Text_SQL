{
 "cells": [
  {
   "cell_type": "code",
   "execution_count": 13,
   "metadata": {},
   "outputs": [],
   "source": [
    "import sqlite3\n",
    "import re\n",
    "import openai\n",
    "import pandas as pd\n",
    "import matplotlib.pyplot as plt\n",
    "import seaborn as sns\n",
    "\n",
    "\n",
    "# Set up the connection to your database\n",
    "conn = sqlite3.connect('car_company_database/Car_Database.db')\n",
    "cursor = conn.cursor()\n",
    "\n",
    "# OpenAI GPT-3.5 Chat-based model\n",
    "\n",
    "openai.api_key = 'Add API key'\n",
    "#model = \"gpt-3.5-turbo\"\n",
    "\n",
    "\n",
    "# Define the SQL query functions\n",
    "def query_executor(query):\n",
    "    try:\n",
    "        cursor.execute(query)\n",
    "        results = cursor.fetchall()\n",
    "        return results\n",
    "    except Exception as e:\n",
    "        return str(e)\n",
    "\n",
    "    \n",
    "# Define the natural language interface using OpenAI API\n",
    "def generate_sql_query(query):\n",
    "    response = openai.Completion.create(\n",
    "        engine=\"text-davinci-003\",\n",
    "        prompt=query,\n",
    "        max_tokens=100,\n",
    "        n=1,\n",
    "        stop=None,\n",
    "        temperature=0.7,\n",
    "        top_p=1.0,\n",
    "        frequency_penalty=0.0,\n",
    "        presence_penalty=0.0\n",
    "    )\n",
    "    return response.choices[0].text.strip()\n"
   ]
  },
  {
   "cell_type": "markdown",
   "metadata": {},
   "source": [
    "+-------------------+          +------------------------+          +--------------------+\n",
    "| User's Natural    |    -->   | Text-to-SQL Interface  |    -->   | Database System    |\n",
    "| Language Query    |          |                        |          |                    |\n",
    "+-------------------+          +------------------------+          +--------------------+\n"
   ]
  },
  {
   "cell_type": "code",
   "execution_count": 14,
   "metadata": {},
   "outputs": [],
   "source": [
    "def test_process(text):\n",
    "    '''\n",
    "    Take natural language and genrate SQL query \n",
    "    (str) => (str, str)\n",
    "    '''\n",
    "    sql_script = generate_sql_query(text)\n",
    "    data = query_executor(sql_script)\n",
    "    print(sql_script)\n",
    "    print(data)\n",
    "    "
   ]
  },
  {
   "cell_type": "code",
   "execution_count": 15,
   "metadata": {},
   "outputs": [
    {
     "name": "stdout",
     "output_type": "stream",
     "text": [
      "SELECT * FROM Brands;\n",
      "[(1, 'Cover Squirrel'), (2, 'Supreme'), (3, 'Yellow'), (4, 'Ferrari'), (5, 'Boujiee'), (6, 'Freshest')]\n"
     ]
    }
   ],
   "source": [
    "# Test query 1\n",
    "test_process(\"Get all records from the Brands table\")"
   ]
  },
  {
   "cell_type": "code",
   "execution_count": 16,
   "metadata": {},
   "outputs": [
    {
     "name": "stdout",
     "output_type": "stream",
     "text": [
      "SELECT *\n",
      "FROM Models;\n",
      "[(1, 'The Blonde', 23000, 1), (2, 'The Brunette', 25000, 1), (3, 'The Red Head', 29000, 1), (4, 'Hat', 22000, 2), (5, 'Sweater', 25000, 2), (6, 'T-Shirt', 27000, 2), (7, 'Orange', 15000, 3), (8, 'Blue', 12000, 3), (9, 'Green', 17000, 3), (10, 'LaFerrari', 125000, 4), (11, '450', 75000, 4), (12, 'F12 Berlinetta', 110000, 4), (13, 'F40', 100000, 4), (14, 'Extra', 30000, 5), (15, 'Too Much', 35000, 5), (16, 'Beats', 24000, 6), (17, 'Bars', 35000, 6)]\n"
     ]
    }
   ],
   "source": [
    "# Test query 2\n",
    "test_process(\"Show all Models from the Models table\")"
   ]
  },
  {
   "cell_type": "code",
   "execution_count": 28,
   "metadata": {},
   "outputs": [
    {
     "name": "stdout",
     "output_type": "stream",
     "text": [
      "SELECT dealer_name FROM Dealers;\n",
      "[('Joes Autos',), ('Priority X',), ('Priority Y',), ('Priority Z',)]\n"
     ]
    }
   ],
   "source": [
    "# Test query 3\n",
    "test_process(\"Show the dealer_names of all Dealers from Dealers table\")"
   ]
  },
  {
   "cell_type": "code",
   "execution_count": 17,
   "metadata": {},
   "outputs": [
    {
     "name": "stdout",
     "output_type": "stream",
     "text": [
      "There are 16 unique dealers in the Dealers table.\n",
      "near \"There\": syntax error\n"
     ]
    }
   ],
   "source": [
    "# Test query 4\n",
    "test_process(\"How many unique Dealers do we have in the Dealers table\")"
   ]
  },
  {
   "cell_type": "code",
   "execution_count": 18,
   "metadata": {},
   "outputs": [
    {
     "name": "stdout",
     "output_type": "stream",
     "text": [
      "SELECT Customers.customer_name\n",
      "FROM Customers\n",
      "INNER JOIN Customer_Ownership\n",
      "ON Customers.customer_id = Customer_Ownership.customer_id\n",
      "WHERE Customer_Ownership.brand = 'BrandName'\n",
      "no such column: Customers.customer_name\n"
     ]
    }
   ],
   "source": [
    "# Test query 5\n",
    "test_process(\"Find all Customers that own a certain brand of Car. Consider joining on the customer_id column to connect Customer_Ownership and Customers table\")"
   ]
  },
  {
   "cell_type": "code",
   "execution_count": null,
   "metadata": {},
   "outputs": [],
   "source": [
    "#\"What is the average Household income for each gender in the Customer table"
   ]
  },
  {
   "cell_type": "code",
   "execution_count": 19,
   "metadata": {},
   "outputs": [
    {
     "name": "stdout",
     "output_type": "stream",
     "text": [
      "1. What is the average number of songs per album in the dataset?\n",
      "\n",
      "SELECT AVG(song_count) \n",
      "FROM albums;\n",
      "\n",
      "2. Who are the top 10 most popular artists in the dataset?\n",
      "\n",
      "SELECT artist, COUNT(*) AS popularity \n",
      "FROM albums \n",
      "GROUP BY artist \n",
      "ORDER BY popularity DESC \n",
      "LIMIT 10;\n",
      "\n",
      "3. What are the five most popular genres in the dataset?\n",
      "near \"1.\": syntax error\n"
     ]
    }
   ],
   "source": [
    "# Test query 6\n",
    "query6 = \"Generate several queries to show the nost interesting things about the data also generate corresponding SQL queries\"\n",
    "sql_query6 = generate_sql_query(query6)\n",
    "response6 = query_executor(sql_query6)\n",
    "print(sql_query6)\n",
    "print(response6)"
   ]
  },
  {
   "cell_type": "code",
   "execution_count": null,
   "metadata": {},
   "outputs": [],
   "source": [
    "\n",
    "\n"
   ]
  }
 ],
 "metadata": {
  "kernelspec": {
   "display_name": "Python 3 (ipykernel)",
   "language": "python",
   "name": "python3"
  },
  "language_info": {
   "codemirror_mode": {
    "name": "ipython",
    "version": 3
   },
   "file_extension": ".py",
   "mimetype": "text/x-python",
   "name": "python",
   "nbconvert_exporter": "python",
   "pygments_lexer": "ipython3",
   "version": "3.11.3"
  }
 },
 "nbformat": 4,
 "nbformat_minor": 2
}
